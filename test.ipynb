{
 "cells": [
  {
   "cell_type": "markdown",
   "id": "82c52886-e8e1-41ee-891f-3495990522ac",
   "metadata": {
    "tags": []
   },
   "source": [
    "# Test irviz App in Jupyter Environment\n",
    "\n",
    "*This demo notebook creates two separate irviz viewer instances,\n",
    "which should give two independent application views.*"
   ]
  },
  {
   "cell_type": "code",
   "execution_count": 1,
   "id": "58991f1d-fc58-4a20-873b-9a22cfb51332",
   "metadata": {},
   "outputs": [],
   "source": [
    "from dask import array as da\n",
    "import h5py as h5\n",
    "\n",
    "from irviz.app import open_map_file, open_ir_file"
   ]
  },
  {
   "cell_type": "markdown",
   "id": "ed51b01c-9ffd-448c-a0ce-03f08ca4403d",
   "metadata": {},
   "source": [
    "## Data Setup"
   ]
  },
  {
   "cell_type": "code",
   "execution_count": 7,
   "id": "2e694891-98b0-4861-9742-57b2f8b5f130",
   "metadata": {
    "tags": []
   },
   "outputs": [
    {
     "name": "stdout",
     "output_type": "stream",
     "text": [
      "Help on class Viewer in module irviz.viewer:\n",
      "\n",
      "class Viewer(dash_html_components.Div.Div)\n",
      " |  Viewer(app, data, decomposition=None, bounds=None)\n",
      " |  \n",
      " |  Interactive viewer that creates and contains all of the visualized components within the Dash app\n",
      " |  \n",
      " |  Method resolution order:\n",
      " |      Viewer\n",
      " |      dash_html_components.Div.Div\n",
      " |      dash.development.base_component.Component\n",
      " |      builtins.object\n",
      " |  \n",
      " |  Methods defined here:\n",
      " |  \n",
      " |  __init__(self, app, data, decomposition=None, bounds=None)\n",
      " |      Viewer on the Dash app.\n",
      " |      \n",
      " |      Provides some properties for accessing visualized data (e.g. the current spectrum).\n",
      " |      \n",
      " |      Parameters\n",
      " |      ----------\n",
      " |      app : dash.Dash or jupyter_dash.JupyterDash\n",
      " |          Reference to the Dash application to add components to\n",
      " |      data : dask.array\n",
      " |          3D array data (with axes E/wave-number, Y, and X)\n",
      " |      decomposition : np.ndarray like\n",
      " |          (optional) Decomposition of the data\n",
      " |      bounds : List\n",
      " |          List of min, max pairs that define each axis's lower and upper bounds\n",
      " |  \n",
      " |  ----------------------------------------------------------------------\n",
      " |  Readonly properties defined here:\n",
      " |  \n",
      " |  intensity\n",
      " |      The intensity value of the crosshair position\n",
      " |  \n",
      " |  position\n",
      " |      The spatial position of the current spectrum\n",
      " |  \n",
      " |  spectral_index\n",
      " |      The current index of the crosshair position along the energy/wavenumber domain\n",
      " |  \n",
      " |  spectral_value\n",
      " |      The current value of the crosshair position in energy/wavenumber\n",
      " |  \n",
      " |  spectrum\n",
      " |      The currently shown spectrum energy/wavenumber and intensity values\n",
      " |  \n",
      " |  ----------------------------------------------------------------------\n",
      " |  Data and other attributes defined here:\n",
      " |  \n",
      " |  __abstractmethods__ = frozenset()\n",
      " |  \n",
      " |  ----------------------------------------------------------------------\n",
      " |  Methods inherited from dash.development.base_component.Component:\n",
      " |  \n",
      " |  __delitem__(self, id)\n",
      " |      Delete items by ID in the tree of children.\n",
      " |  \n",
      " |  __getitem__(self, id)\n",
      " |      Recursively find the element with the given ID through the tree of\n",
      " |      children.\n",
      " |  \n",
      " |  __iter__(self)\n",
      " |      Yield IDs in the tree of children.\n",
      " |  \n",
      " |  __len__(self)\n",
      " |      Return the number of items in the tree.\n",
      " |  \n",
      " |  __repr__(self)\n",
      " |      Return repr(self).\n",
      " |  \n",
      " |  __setitem__(self, id, item)\n",
      " |      Set an element by its ID.\n",
      " |  \n",
      " |  to_plotly_json(self)\n",
      " |  \n",
      " |  ----------------------------------------------------------------------\n",
      " |  Data descriptors inherited from dash.development.base_component.Component:\n",
      " |  \n",
      " |  __dict__\n",
      " |      dictionary for instance variables (if defined)\n",
      " |  \n",
      " |  __weakref__\n",
      " |      list of weak references to the object (if defined)\n",
      " |  \n",
      " |  ----------------------------------------------------------------------\n",
      " |  Data and other attributes inherited from dash.development.base_component.Component:\n",
      " |  \n",
      " |  REQUIRED = required\n",
      " |  \n",
      " |  UNDEFINED = undefined\n",
      "\n"
     ]
    },
    {
     "name": "stderr",
     "output_type": "stream",
     "text": [
      "/home/ihumphrey/miniconda3/envs/irviz/lib/python3.9/site-packages/dask/array/core.py:1508: FutureWarning:\n",
      "\n",
      "The `numpy.may_share_memory` function is not implemented by Dask array. You may want to use the da.map_blocks function or something similar to silence this warning. Your code may stop working in a future release.\n",
      "\n"
     ]
    }
   ],
   "source": [
    "from irviz.viewer import notebook_viewer\n",
    "import sklearn.decomposition\n",
    "\n",
    "from irviz.viewer import Viewer\n",
    "help(Viewer)\n",
    "\n",
    "\n",
    "# Open the data\n",
    "# data, bounds = open_ir_file('./data/ir_stxm.h5')\n",
    "data, bounds = open_map_file('./data/BP-area3a.h5')\n",
    "model  = sklearn.decomposition.PCA(n_components=3)\n",
    "data = data.T\n",
    "# Compute decomposition data\n",
    "decomposition = model.fit_transform(data.transpose(1,2,0).reshape(-1, data.shape[0])).T.reshape(-1, *data.shape[1:])"
   ]
  },
  {
   "cell_type": "code",
   "execution_count": null,
   "id": "3f664d85-7111-4343-a821-2fbc74e7ad81",
   "metadata": {},
   "outputs": [],
   "source": []
  },
  {
   "cell_type": "markdown",
   "id": "48d76bd6-4d07-4f11-bee8-892b191c13e8",
   "metadata": {},
   "source": [
    "## Viewer 1"
   ]
  },
  {
   "cell_type": "code",
   "execution_count": 3,
   "id": "ae7ddb38-b7bc-4270-8bdd-9919f90623ec",
   "metadata": {},
   "outputs": [
    {
     "data": {
      "text/html": [
       "\n",
       "        <iframe\n",
       "            width=\"100%\"\n",
       "            height=\"650\"\n",
       "            src=\"http://127.0.0.1:8050/\"\n",
       "            frameborder=\"0\"\n",
       "            allowfullscreen\n",
       "        ></iframe>\n",
       "        "
      ],
      "text/plain": [
       "<IPython.lib.display.IFrame at 0x7f72504e0760>"
      ]
     },
     "metadata": {},
     "output_type": "display_data"
    }
   ],
   "source": [
    "# Create 1st notebook viewer\n",
    "viewer1 = notebook_viewer(data, decomposition=decomposition, bounds=bounds)"
   ]
  },
  {
   "cell_type": "code",
   "execution_count": 4,
   "id": "e0d1952c-678a-4ffe-8996-b891a1759bd2",
   "metadata": {},
   "outputs": [
    {
     "ename": "AttributeError",
     "evalue": "'SpectraPlotGraph' object has no attribute 'current_spectra_wave'",
     "output_type": "error",
     "traceback": [
      "\u001b[0;31m---------------------------------------------------------------------------\u001b[0m",
      "\u001b[0;31mAttributeError\u001b[0m                            Traceback (most recent call last)",
      "\u001b[0;32m<ipython-input-4-3fe75af9b2ca>\u001b[0m in \u001b[0;36m<module>\u001b[0;34m\u001b[0m\n\u001b[0;32m----> 1\u001b[0;31m \u001b[0mw_dict\u001b[0m \u001b[0;34m=\u001b[0m \u001b[0mviewer1\u001b[0m\u001b[0;34m.\u001b[0m\u001b[0mspectra_graph\u001b[0m\u001b[0;34m.\u001b[0m\u001b[0mcurrent_spectra_wave\u001b[0m\u001b[0;34m\u001b[0m\u001b[0;34m\u001b[0m\u001b[0m\n\u001b[0m\u001b[1;32m      2\u001b[0m \u001b[0mp_dict\u001b[0m \u001b[0;34m=\u001b[0m \u001b[0mviewer1\u001b[0m\u001b[0;34m.\u001b[0m\u001b[0mspectra_graph\u001b[0m\u001b[0;34m.\u001b[0m\u001b[0mcurrent_position\u001b[0m\u001b[0;34m\u001b[0m\u001b[0;34m\u001b[0m\u001b[0m\n\u001b[1;32m      3\u001b[0m \u001b[0mprint\u001b[0m\u001b[0;34m(\u001b[0m\u001b[0;34m)\u001b[0m\u001b[0;34m\u001b[0m\u001b[0;34m\u001b[0m\u001b[0m\n\u001b[1;32m      4\u001b[0m \u001b[0mprint\u001b[0m\u001b[0;34m(\u001b[0m\u001b[0mw_dict\u001b[0m\u001b[0;34m[\u001b[0m\u001b[0;34m'Wavenumber (cm⁻¹)'\u001b[0m\u001b[0;34m]\u001b[0m\u001b[0;34m)\u001b[0m\u001b[0;34m\u001b[0m\u001b[0;34m\u001b[0m\u001b[0m\n\u001b[1;32m      5\u001b[0m \u001b[0;34m\u001b[0m\u001b[0m\n",
      "\u001b[0;31mAttributeError\u001b[0m: 'SpectraPlotGraph' object has no attribute 'current_spectra_wave'"
     ]
    }
   ],
   "source": [
    "w_dict = viewer1.spectra_graph.current_spectra_wave\n",
    "p_dict = viewer1.spectra_graph.current_position\n",
    "print()\n",
    "print(w_dict['Wavenumber (cm⁻¹)'])\n",
    "\n",
    "print(f'wave\\n{w_dict}')\n",
    "print(f'\\nposition\\n{p_dict}')\n",
    "print()\n"
   ]
  },
  {
   "cell_type": "markdown",
   "id": "9d785bff-68ab-45ad-b320-73fd7362d957",
   "metadata": {},
   "source": [
    "---"
   ]
  },
  {
   "cell_type": "markdown",
   "id": "43322610-fb31-410b-a730-d34da8918472",
   "metadata": {
    "tags": []
   },
   "source": [
    "## Viewer 2"
   ]
  },
  {
   "cell_type": "code",
   "execution_count": null,
   "id": "cf0d092b-129b-4e63-bd1d-c242d0f3ba23",
   "metadata": {
    "tags": []
   },
   "outputs": [],
   "source": [
    "# Create 2nd notebook viewer (after waiting until first has loaded completely)\n",
    "import time\n",
    "time.sleep(2)\n",
    "viewer2 = notebook_viewer(data, bounds)"
   ]
  },
  {
   "cell_type": "code",
   "execution_count": null,
   "id": "043b2075-b1b0-4c99-97f9-e8c1ab29bde6",
   "metadata": {},
   "outputs": [],
   "source": []
  },
  {
   "cell_type": "code",
   "execution_count": null,
   "id": "5680be4b-6dd3-4145-a966-1542721a403a",
   "metadata": {},
   "outputs": [],
   "source": []
  }
 ],
 "metadata": {
  "kernelspec": {
   "display_name": "Python 3",
   "language": "python",
   "name": "python3"
  },
  "language_info": {
   "codemirror_mode": {
    "name": "ipython",
    "version": 3
   },
   "file_extension": ".py",
   "mimetype": "text/x-python",
   "name": "python",
   "nbconvert_exporter": "python",
   "pygments_lexer": "ipython3",
   "version": "3.9.5"
  }
 },
 "nbformat": 4,
 "nbformat_minor": 5
}
