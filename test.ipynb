{
 "cells": [
  {
   "cell_type": "markdown",
   "id": "82c52886-e8e1-41ee-891f-3495990522ac",
   "metadata": {
    "tags": []
   },
   "source": [
    "# Test irviz App in Jupyter Environment\n",
    "\n",
    "*This demo notebook creates two separate irviz viewer instances,\n",
    "which should give two independent application views.*"
   ]
  },
  {
   "cell_type": "code",
   "execution_count": 1,
   "id": "58991f1d-fc58-4a20-873b-9a22cfb51332",
   "metadata": {},
   "outputs": [],
   "source": [
    "from dask import array as da\n",
    "import h5py as h5\n",
    "\n",
    "from irviz.app import open_map_file, open_ir_file"
   ]
  },
  {
   "cell_type": "markdown",
   "id": "ed51b01c-9ffd-448c-a0ce-03f08ca4403d",
   "metadata": {},
   "source": [
    "## Data Setup"
   ]
  },
  {
   "cell_type": "code",
   "execution_count": 2,
   "id": "2e694891-98b0-4861-9742-57b2f8b5f130",
   "metadata": {
    "tags": []
   },
   "outputs": [
    {
     "name": "stderr",
     "output_type": "stream",
     "text": [
      "/home/ihumphrey/miniconda3/envs/irviz/lib/python3.9/site-packages/dask/array/core.py:1508: FutureWarning: The `numpy.may_share_memory` function is not implemented by Dask array. You may want to use the da.map_blocks function or something similar to silence this warning. Your code may stop working in a future release.\n",
      "  warnings.warn(\n"
     ]
    }
   ],
   "source": [
    "from irviz.viewer import notebook_viewer\n",
    "import sklearn.decomposition\n",
    "\n",
    "# Open the data\n",
    "# data, bounds = open_ir_file('./data/ir_stxm.h5')\n",
    "data, bounds = open_map_file('./data/BP-area3a.h5')\n",
    "model  = sklearn.decomposition.PCA(n_components=3)\n",
    "data = data.T\n",
    "# Compute decomposition data\n",
    "decomposition = model.fit_transform(data.transpose(1,2,0).reshape(-1, data.shape[0])).T.reshape(-1, *data.shape[1:])"
   ]
  },
  {
   "cell_type": "code",
   "execution_count": null,
   "id": "3f664d85-7111-4343-a821-2fbc74e7ad81",
   "metadata": {},
   "outputs": [],
   "source": []
  },
  {
   "cell_type": "markdown",
   "id": "48d76bd6-4d07-4f11-bee8-892b191c13e8",
   "metadata": {},
   "source": [
    "## Viewer 1"
   ]
  },
  {
   "cell_type": "code",
   "execution_count": 3,
   "id": "ae7ddb38-b7bc-4270-8bdd-9919f90623ec",
   "metadata": {},
   "outputs": [
    {
     "data": {
      "text/html": [
       "\n",
       "        <iframe\n",
       "            width=\"100%\"\n",
       "            height=\"650\"\n",
       "            src=\"http://127.0.0.1:8050/\"\n",
       "            frameborder=\"0\"\n",
       "            allowfullscreen\n",
       "        ></iframe>\n",
       "        "
      ],
      "text/plain": [
       "<IPython.lib.display.IFrame at 0x7f7e144ef8e0>"
      ]
     },
     "metadata": {},
     "output_type": "display_data"
    }
   ],
   "source": [
    "# Create 1st notebook viewer\n",
    "viewer1 = notebook_viewer(data, bounds, decomposition)"
   ]
  },
  {
   "cell_type": "code",
   "execution_count": 6,
   "id": "e0d1952c-678a-4ffe-8996-b891a1759bd2",
   "metadata": {},
   "outputs": [
    {
     "name": "stdout",
     "output_type": "stream",
     "text": [
      "\n",
      "[ 649.89324951  651.8217162   653.75018289 ... 3995.7829592  3997.71142589\n",
      " 3999.63989258]\n",
      "wave\n",
      "{'Wavenumber (cm⁻¹)': array([ 649.89324951,  651.8217162 ,  653.75018289, ..., 3995.7829592 ,\n",
      "       3997.71142589, 3999.63989258]), 'Intensity': array([ 0.00868013,  0.00815033,  0.00257306, ..., -0.01575252,\n",
      "       -0.01533467, -0.01571327], dtype=float32)}\n",
      "\n",
      "position\n",
      "{'x_slice': 14, 'y_slice': 20, 'current_x': 1051.014321335445, 'Intensity': 0.39142013}\n",
      "\n"
     ]
    }
   ],
   "source": [
    "w_dict = viewer1.spectra_graph.current_spectra_wave\n",
    "p_dict = viewer1.spectra_graph.current_position\n",
    "print()\n",
    "print(w_dict['Wavenumber (cm⁻¹)'])\n",
    "\n",
    "print(f'wave\\n{w_dict}')\n",
    "print(f'\\nposition\\n{p_dict}')\n",
    "print()\n"
   ]
  },
  {
   "cell_type": "markdown",
   "id": "9d785bff-68ab-45ad-b320-73fd7362d957",
   "metadata": {},
   "source": [
    "---"
   ]
  },
  {
   "cell_type": "markdown",
   "id": "43322610-fb31-410b-a730-d34da8918472",
   "metadata": {
    "tags": []
   },
   "source": [
    "## Viewer 2"
   ]
  },
  {
   "cell_type": "code",
   "execution_count": 5,
   "id": "cf0d092b-129b-4e63-bd1d-c242d0f3ba23",
   "metadata": {
    "tags": []
   },
   "outputs": [
    {
     "data": {
      "text/html": [
       "\n",
       "        <iframe\n",
       "            width=\"100%\"\n",
       "            height=\"650\"\n",
       "            src=\"http://127.0.0.1:8050/\"\n",
       "            frameborder=\"0\"\n",
       "            allowfullscreen\n",
       "        ></iframe>\n",
       "        "
      ],
      "text/plain": [
       "<IPython.lib.display.IFrame at 0x7f7e14016280>"
      ]
     },
     "metadata": {},
     "output_type": "display_data"
    }
   ],
   "source": [
    "# Create 2nd notebook viewer (after waiting until first has loaded completely)\n",
    "import time\n",
    "time.sleep(2)\n",
    "viewer2 = notebook_viewer(data, bounds)"
   ]
  },
  {
   "cell_type": "code",
   "execution_count": null,
   "id": "043b2075-b1b0-4c99-97f9-e8c1ab29bde6",
   "metadata": {},
   "outputs": [],
   "source": []
  },
  {
   "cell_type": "code",
   "execution_count": null,
   "id": "5680be4b-6dd3-4145-a966-1542721a403a",
   "metadata": {},
   "outputs": [],
   "source": []
  }
 ],
 "metadata": {
  "kernelspec": {
   "display_name": "Python 3",
   "language": "python",
   "name": "python3"
  },
  "language_info": {
   "codemirror_mode": {
    "name": "ipython",
    "version": 3
   },
   "file_extension": ".py",
   "mimetype": "text/x-python",
   "name": "python",
   "nbconvert_exporter": "python",
   "pygments_lexer": "ipython3",
   "version": "3.9.5"
  }
 },
 "nbformat": 4,
 "nbformat_minor": 5
}
