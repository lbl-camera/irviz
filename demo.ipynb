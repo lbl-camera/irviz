{
 "cells": [
  {
   "cell_type": "markdown",
   "id": "82c52886-e8e1-41ee-891f-3495990522ac",
   "metadata": {
    "pycharm": {
     "name": "#%% md\n"
    },
    "tags": []
   },
   "source": [
    "# Test irviz App in Jupyter Environment\n",
    "\n",
    "*This demo notebook creates two separate irviz viewer instances,\n",
    "which should give two independent application views.*\n",
    "\n",
    "First, read the data and get its decomposition:"
   ]
  },
  {
   "cell_type": "code",
   "execution_count": null,
   "id": "58991f1d-fc58-4a20-873b-9a22cfb51332",
   "metadata": {},
   "outputs": [],
   "source": [
    "from dask import array as da\n",
    "import h5py as h5\n",
    "import numpy as np\n",
    "import sklearn.decomposition\n",
    "\n",
    "from irviz.app import open_map_file, open_ir_file\n",
    "\n",
    "# Open the data\n",
    "data_file =  \"INSERT FILE PATH HERE\"  # \"./data/BP-area3a.h5\"\n",
    "data, bounds = open_map_file(data_file)\n",
    "\n",
    "model = sklearn.decomposition.PCA(n_components=3)\n",
    "decomposition = model.fit_transform(data.transpose(1,2,0).reshape(-1, data.shape[0])).T.reshape(-1, *data.shape[1:])\n",
    "cluster_labels = np.argmax(decomposition, axis=0)\n",
    "cluster_label_names = ['Alpha', 'Bravo', 'Charlie']"
   ]
  },
  {
   "cell_type": "markdown",
   "id": "48d76bd6-4d07-4f11-bee8-892b191c13e8",
   "metadata": {},
   "source": [
    "## Create a Viewer\n",
    "\n",
    "Next, create a viewer using the `notebook_viewer` function.\n",
    "This will create the Dash app if necessary, and create all of the visualization components to that app.\n",
    "\n",
    "This function also returns the created viewer, which can be used to access some of its visualized data.\n",
    "\n",
    "(run `help(Viewer)` to see the available properties)\n"
   ]
  },
  {
   "cell_type": "code",
   "execution_count": null,
   "id": "ae7ddb38-b7bc-4270-8bdd-9919f90623ec",
   "metadata": {},
   "outputs": [],
   "source": [
    "from irviz.viewer import notebook_viewer, Viewer\n",
    "\n",
    "# help(Viewer)\n",
    "viewer = notebook_viewer(data,\n",
    "                         decomposition=decomposition,\n",
    "                         bounds=bounds,\n",
    "                         x_axis_title='X (μm)',\n",
    "                         y_axis_title='Y (μm)',\n",
    "                         spectra_axis_title='Wavenumber (cm⁻¹)',\n",
    "                         intensity_axis_title='Intensity',\n",
    "                         invert_spectra_axis=True,\n",
    "                         cluster_labels=cluster_labels,\n",
    "                         cluster_label_names=cluster_label_names,\n",
    "                         component_spectra=model.components_,\n",
    "                         height=1500)"
   ]
  },
  {
   "cell_type": "markdown",
   "id": "407701a4-675e-4163-8bd7-3696bdac199c",
   "metadata": {},
   "source": [
    "### Viewer Properties Examples\n",
    "\n"
   ]
  },
  {
   "cell_type": "code",
   "execution_count": null,
   "id": "e0d1952c-678a-4ffe-8996-b891a1759bd2",
   "metadata": {},
   "outputs": [],
   "source": [
    "print(f'current spectrum in the spectra plot:\\n\\t{viewer.spectrum}',\n",
    "      f'current spectral value in the spectra plot (i.e. the value at the current x position):\\n\\t{viewer.spectral_value}',\n",
    "      f'current x index of the spectra plot:\\n\\t{viewer.spectral_index}', sep='\\n\\n')\n"
   ]
  },
  {
   "cell_type": "code",
   "execution_count": null,
   "id": "246567e6-b481-46af-a887-87675a123095",
   "metadata": {},
   "outputs": [],
   "source": []
  },
  {
   "cell_type": "code",
   "execution_count": null,
   "id": "a8d80d77-b272-44c6-9ec8-12c34e278091",
   "metadata": {},
   "outputs": [],
   "source": []
  },
  {
   "cell_type": "code",
   "execution_count": null,
   "id": "476751bd-a547-4b1c-b9e4-f81b687e98f7",
   "metadata": {},
   "outputs": [],
   "source": []
  },
  {
   "cell_type": "code",
   "execution_count": null,
   "id": "942108c3-e256-498a-bc1a-70713331c8dd",
   "metadata": {},
   "outputs": [],
   "source": []
  },
  {
   "cell_type": "code",
   "execution_count": null,
   "id": "3582de2a-7db9-4e65-9069-bf57570efac5",
   "metadata": {},
   "outputs": [],
   "source": []
  },
  {
   "cell_type": "code",
   "execution_count": null,
   "id": "a56acc02-cd24-44ff-b43b-6fab8e197ef3",
   "metadata": {},
   "outputs": [],
   "source": []
  },
  {
   "cell_type": "markdown",
   "id": "9d785bff-68ab-45ad-b320-73fd7362d957",
   "metadata": {},
   "source": [
    "---"
   ]
  },
  {
   "cell_type": "markdown",
   "id": "43322610-fb31-410b-a730-d34da8918472",
   "metadata": {
    "tags": []
   },
   "source": [
    "## (TESTING: a second viewer)"
   ]
  },
  {
   "cell_type": "code",
   "execution_count": null,
   "id": "cf0d092b-129b-4e63-bd1d-c242d0f3ba23",
   "metadata": {
    "tags": []
   },
   "outputs": [],
   "source": [
    "# Create 2nd notebook viewer (after waiting until first has loaded completely)\n",
    "import time\n",
    "time.sleep(2)\n",
    "viewer = notebook_viewer(data, decomposition=decomposition, bounds=bounds, height=1500)"
   ]
  },
  {
   "cell_type": "code",
   "execution_count": null,
   "id": "20217970-7f51-4365-acdf-d8d610ffaecb",
   "metadata": {},
   "outputs": [],
   "source": []
  }
 ],
 "metadata": {
  "kernelspec": {
   "display_name": "Python 3",
   "language": "python",
   "name": "python3"
  },
  "language_info": {
   "codemirror_mode": {
    "name": "ipython",
    "version": 3
   },
   "file_extension": ".py",
   "mimetype": "text/x-python",
   "name": "python",
   "nbconvert_exporter": "python",
   "pygments_lexer": "ipython3",
   "version": "3.9.5"
  }
 },
 "nbformat": 4,
 "nbformat_minor": 5
}
