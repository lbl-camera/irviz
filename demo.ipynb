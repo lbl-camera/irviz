{
 "cells": [
  {
   "cell_type": "markdown",
   "id": "82c52886-e8e1-41ee-891f-3495990522ac",
   "metadata": {
    "tags": []
   },
   "source": [
    "# Test irviz App in Jupyter Environment\n",
    "\n",
    "*This demo notebook creates two separate irviz viewer instances,\n",
    "which should give two independent application views.*\n",
    "\n",
    "First, read the data and get its decomposition:"
   ]
  },
  {
   "cell_type": "code",
   "execution_count": 1,
   "id": "58991f1d-fc58-4a20-873b-9a22cfb51332",
   "metadata": {},
   "outputs": [
    {
     "name": "stderr",
     "output_type": "stream",
     "text": [
      "/home/ihumphrey/miniconda3/envs/irviz/lib/python3.9/site-packages/dask/array/core.py:1508: FutureWarning: The `numpy.may_share_memory` function is not implemented by Dask array. You may want to use the da.map_blocks function or something similar to silence this warning. Your code may stop working in a future release.\n",
      "  warnings.warn(\n"
     ]
    }
   ],
   "source": [
    "from dask import array as da\n",
    "import h5py as h5\n",
    "\n",
    "from irviz.app import open_map_file, open_ir_file\n",
    "import sklearn.decomposition\n",
    "\n",
    "# Open the data\n",
    "# data, bounds = open_ir_file('./data/ir_stxm.h5')\n",
    "data, bounds = open_map_file('./data/BP-area3a.h5')\n",
    "model  = sklearn.decomposition.PCA(n_components=3)\n",
    "data = data.T\n",
    "# Compute decomposition data\n",
    "decomposition = model.fit_transform(data.transpose(1,2,0).reshape(-1, data.shape[0])).T.reshape(-1, *data.shape[1:])"
   ]
  },
  {
   "cell_type": "markdown",
   "id": "48d76bd6-4d07-4f11-bee8-892b191c13e8",
   "metadata": {},
   "source": [
    "## Create a Viewer\n",
    "\n",
    "Next, create a viewer using the `notebook_viewer` function.\n",
    "This will create the Dash app if necessary, and create all of the visualization components to that app.\n",
    "\n",
    "This function also returns the created viewer, which can be used to access some of its visualized data.\n",
    "\n",
    "(run `help(Viewer)` to see the available properties)\n"
   ]
  },
  {
   "cell_type": "code",
   "execution_count": 2,
   "id": "ae7ddb38-b7bc-4270-8bdd-9919f90623ec",
   "metadata": {},
   "outputs": [
    {
     "data": {
      "text/html": [
       "\n",
       "        <iframe\n",
       "            width=\"100%\"\n",
       "            height=\"650\"\n",
       "            src=\"http://127.0.0.1:8050/\"\n",
       "            frameborder=\"0\"\n",
       "            allowfullscreen\n",
       "        ></iframe>\n",
       "        "
      ],
      "text/plain": [
       "<IPython.lib.display.IFrame at 0x7fb19d69dfa0>"
      ]
     },
     "metadata": {},
     "output_type": "display_data"
    }
   ],
   "source": [
    "from irviz.viewer import notebook_viewer, Viewer\n",
    "\n",
    "# Create 1st notebook viewer\n",
    "viewer = notebook_viewer(data, decomposition=decomposition, bounds=bounds)"
   ]
  },
  {
   "cell_type": "markdown",
   "id": "407701a4-675e-4163-8bd7-3696bdac199c",
   "metadata": {},
   "source": [
    "### Viewer Properties Examples\n",
    "\n"
   ]
  },
  {
   "cell_type": "code",
   "execution_count": 3,
   "id": "e0d1952c-678a-4ffe-8996-b891a1759bd2",
   "metadata": {},
   "outputs": [
    {
     "name": "stdout",
     "output_type": "stream",
     "text": [
      "current spectrum in the spectra plot:\n",
      "\t(array([ 649.89324951,  651.8217162 ,  653.75018289, ..., 3995.7829592 ,\n",
      "       3997.71142589, 3999.63989258]), array([ 0.00868013,  0.00815033,  0.00257306, ..., -0.01575252,\n",
      "       -0.01533467, -0.01571327], dtype=float32))\n",
      "\n",
      "current spectral value in the spectra plot (i.e. the value at the current x position):\n",
      "\t2325.7308043906523\n",
      "\n",
      "current x index in the spectra plot:\n",
      "\t869\n",
      "\n"
     ]
    }
   ],
   "source": [
    "print(f'current spectrum in the spectra plot:\\n\\t{viewer.spectrum}')\n",
    "print()\n",
    "print(f'current spectral value in the spectra plot (i.e. the value at the current x position):\\n\\t{viewer.spectral_value}')\n",
    "print()\n",
    "print(f'current x index of the spectra plot:\\n\\t{viewer.spectral_index}')\n",
    "print()\n"
   ]
  },
  {
   "cell_type": "code",
   "execution_count": null,
   "id": "246567e6-b481-46af-a887-87675a123095",
   "metadata": {},
   "outputs": [],
   "source": []
  },
  {
   "cell_type": "code",
   "execution_count": null,
   "id": "a8d80d77-b272-44c6-9ec8-12c34e278091",
   "metadata": {},
   "outputs": [],
   "source": []
  },
  {
   "cell_type": "code",
   "execution_count": null,
   "id": "476751bd-a547-4b1c-b9e4-f81b687e98f7",
   "metadata": {},
   "outputs": [],
   "source": []
  },
  {
   "cell_type": "code",
   "execution_count": null,
   "id": "942108c3-e256-498a-bc1a-70713331c8dd",
   "metadata": {},
   "outputs": [],
   "source": []
  },
  {
   "cell_type": "code",
   "execution_count": null,
   "id": "3582de2a-7db9-4e65-9069-bf57570efac5",
   "metadata": {},
   "outputs": [],
   "source": []
  },
  {
   "cell_type": "code",
   "execution_count": null,
   "id": "a56acc02-cd24-44ff-b43b-6fab8e197ef3",
   "metadata": {},
   "outputs": [],
   "source": []
  },
  {
   "cell_type": "markdown",
   "id": "9d785bff-68ab-45ad-b320-73fd7362d957",
   "metadata": {},
   "source": [
    "---"
   ]
  },
  {
   "cell_type": "markdown",
   "id": "43322610-fb31-410b-a730-d34da8918472",
   "metadata": {
    "tags": []
   },
   "source": [
    "## (TESTING: a second viewer)"
   ]
  },
  {
   "cell_type": "code",
   "execution_count": 4,
   "id": "cf0d092b-129b-4e63-bd1d-c242d0f3ba23",
   "metadata": {
    "tags": []
   },
   "outputs": [
    {
     "ename": "TypeError",
     "evalue": "'NoneType' object is not subscriptable",
     "output_type": "error",
     "traceback": [
      "\u001b[0;31m---------------------------------------------------------------------------\u001b[0m",
      "\u001b[0;31mTypeError\u001b[0m                                 Traceback (most recent call last)",
      "\u001b[0;32m<ipython-input-4-e711797f79ac>\u001b[0m in \u001b[0;36m<module>\u001b[0;34m\u001b[0m\n\u001b[1;32m      2\u001b[0m \u001b[0;32mimport\u001b[0m \u001b[0mtime\u001b[0m\u001b[0;34m\u001b[0m\u001b[0;34m\u001b[0m\u001b[0m\n\u001b[1;32m      3\u001b[0m \u001b[0mtime\u001b[0m\u001b[0;34m.\u001b[0m\u001b[0msleep\u001b[0m\u001b[0;34m(\u001b[0m\u001b[0;36m2\u001b[0m\u001b[0;34m)\u001b[0m\u001b[0;34m\u001b[0m\u001b[0;34m\u001b[0m\u001b[0m\n\u001b[0;32m----> 4\u001b[0;31m \u001b[0mviewer2\u001b[0m \u001b[0;34m=\u001b[0m \u001b[0mnotebook_viewer\u001b[0m\u001b[0;34m(\u001b[0m\u001b[0mdata\u001b[0m\u001b[0;34m)\u001b[0m\u001b[0;34m\u001b[0m\u001b[0;34m\u001b[0m\u001b[0m\n\u001b[0m",
      "\u001b[0;32m~/Dev/irviz/irviz/viewer.py\u001b[0m in \u001b[0;36mnotebook_viewer\u001b[0;34m(data, decomposition, bounds, mode)\u001b[0m\n\u001b[1;32m    215\u001b[0m \u001b[0;34m\u001b[0m\u001b[0m\n\u001b[1;32m    216\u001b[0m     \u001b[0mapp\u001b[0m \u001b[0;34m=\u001b[0m \u001b[0mirviz\u001b[0m\u001b[0;34m.\u001b[0m\u001b[0m_app\u001b[0m\u001b[0;34m\u001b[0m\u001b[0;34m\u001b[0m\u001b[0m\n\u001b[0;32m--> 217\u001b[0;31m     \u001b[0mviewer\u001b[0m \u001b[0;34m=\u001b[0m \u001b[0mViewer\u001b[0m\u001b[0;34m(\u001b[0m\u001b[0mapp\u001b[0m\u001b[0;34m,\u001b[0m \u001b[0mdata\u001b[0m\u001b[0;34m.\u001b[0m\u001b[0mcompute\u001b[0m\u001b[0;34m(\u001b[0m\u001b[0;34m)\u001b[0m\u001b[0;34m,\u001b[0m \u001b[0mdecomposition\u001b[0m\u001b[0;34m,\u001b[0m \u001b[0mbounds\u001b[0m\u001b[0;34m=\u001b[0m\u001b[0mbounds\u001b[0m\u001b[0;34m)\u001b[0m\u001b[0;34m\u001b[0m\u001b[0;34m\u001b[0m\u001b[0m\n\u001b[0m\u001b[1;32m    218\u001b[0m     \u001b[0;31m# viewer2 = Viewer(data.compute(), app=app)\u001b[0m\u001b[0;34m\u001b[0m\u001b[0;34m\u001b[0m\u001b[0;34m\u001b[0m\u001b[0m\n\u001b[1;32m    219\u001b[0m \u001b[0;34m\u001b[0m\u001b[0m\n",
      "\u001b[0;32m~/Dev/irviz/irviz/viewer.py\u001b[0m in \u001b[0;36m__init__\u001b[0;34m(self, app, data, decomposition, bounds)\u001b[0m\n\u001b[1;32m     36\u001b[0m         \u001b[0;31m# Initialize graphs\u001b[0m\u001b[0;34m\u001b[0m\u001b[0;34m\u001b[0m\u001b[0;34m\u001b[0m\u001b[0m\n\u001b[1;32m     37\u001b[0m         \u001b[0mspectra_graph_labels\u001b[0m \u001b[0;34m=\u001b[0m \u001b[0;34m{\u001b[0m\u001b[0;34m'xaxis_title'\u001b[0m\u001b[0;34m:\u001b[0m \u001b[0;34m'Wavenumber (cm⁻¹)'\u001b[0m\u001b[0;34m}\u001b[0m\u001b[0;34m\u001b[0m\u001b[0;34m\u001b[0m\u001b[0m\n\u001b[0;32m---> 38\u001b[0;31m         \u001b[0mself\u001b[0m\u001b[0;34m.\u001b[0m\u001b[0mspectra_graph\u001b[0m \u001b[0;34m=\u001b[0m \u001b[0mSpectraPlotGraph\u001b[0m\u001b[0;34m(\u001b[0m\u001b[0mdata\u001b[0m\u001b[0;34m,\u001b[0m \u001b[0mbounds\u001b[0m\u001b[0;34m,\u001b[0m \u001b[0mself\u001b[0m\u001b[0;34m,\u001b[0m \u001b[0mlabels\u001b[0m\u001b[0;34m=\u001b[0m\u001b[0mspectra_graph_labels\u001b[0m\u001b[0;34m)\u001b[0m\u001b[0;34m\u001b[0m\u001b[0;34m\u001b[0m\u001b[0m\n\u001b[0m\u001b[1;32m     39\u001b[0m         \u001b[0mself\u001b[0m\u001b[0;34m.\u001b[0m\u001b[0mmap_graph\u001b[0m \u001b[0;34m=\u001b[0m \u001b[0mMapGraph\u001b[0m\u001b[0;34m(\u001b[0m\u001b[0mdata\u001b[0m\u001b[0;34m,\u001b[0m \u001b[0mbounds\u001b[0m\u001b[0;34m,\u001b[0m \u001b[0mself\u001b[0m\u001b[0;34m)\u001b[0m\u001b[0;34m\u001b[0m\u001b[0;34m\u001b[0m\u001b[0m\n\u001b[1;32m     40\u001b[0m         \u001b[0;31m# self.orthogonal_x_graph = SliceGraph(data, self)\u001b[0m\u001b[0;34m\u001b[0m\u001b[0;34m\u001b[0m\u001b[0;34m\u001b[0m\u001b[0m\n",
      "\u001b[0;32m~/Dev/irviz/irviz/graphs.py\u001b[0m in \u001b[0;36m__init__\u001b[0;34m(self, data, bounds, parent, labels)\u001b[0m\n\u001b[1;32m     53\u001b[0m \u001b[0;34m\u001b[0m\u001b[0m\n\u001b[1;32m     54\u001b[0m         \u001b[0my\u001b[0m \u001b[0;34m=\u001b[0m \u001b[0mnp\u001b[0m\u001b[0;34m.\u001b[0m\u001b[0masarray\u001b[0m\u001b[0;34m(\u001b[0m\u001b[0mself\u001b[0m\u001b[0;34m.\u001b[0m\u001b[0m_data\u001b[0m\u001b[0;34m[\u001b[0m\u001b[0;34m:\u001b[0m\u001b[0;34m,\u001b[0m \u001b[0m_y_index\u001b[0m\u001b[0;34m,\u001b[0m \u001b[0m_x_index\u001b[0m\u001b[0;34m]\u001b[0m\u001b[0;34m)\u001b[0m\u001b[0;34m\u001b[0m\u001b[0;34m\u001b[0m\u001b[0m\n\u001b[0;32m---> 55\u001b[0;31m         \u001b[0mx\u001b[0m \u001b[0;34m=\u001b[0m \u001b[0mnp\u001b[0m\u001b[0;34m.\u001b[0m\u001b[0mlinspace\u001b[0m\u001b[0;34m(\u001b[0m\u001b[0mbounds\u001b[0m\u001b[0;34m[\u001b[0m\u001b[0;36m0\u001b[0m\u001b[0;34m]\u001b[0m\u001b[0;34m[\u001b[0m\u001b[0;36m0\u001b[0m\u001b[0;34m]\u001b[0m\u001b[0;34m,\u001b[0m \u001b[0mbounds\u001b[0m\u001b[0;34m[\u001b[0m\u001b[0;36m0\u001b[0m\u001b[0;34m]\u001b[0m\u001b[0;34m[\u001b[0m\u001b[0;36m1\u001b[0m\u001b[0;34m]\u001b[0m\u001b[0;34m,\u001b[0m \u001b[0mself\u001b[0m\u001b[0;34m.\u001b[0m\u001b[0m_data\u001b[0m\u001b[0;34m.\u001b[0m\u001b[0mshape\u001b[0m\u001b[0;34m[\u001b[0m\u001b[0;36m0\u001b[0m\u001b[0;34m]\u001b[0m\u001b[0;34m)\u001b[0m\u001b[0;34m\u001b[0m\u001b[0;34m\u001b[0m\u001b[0m\n\u001b[0m\u001b[1;32m     56\u001b[0m         \u001b[0mself\u001b[0m\u001b[0;34m.\u001b[0m\u001b[0m_plot\u001b[0m \u001b[0;34m=\u001b[0m \u001b[0mgo\u001b[0m\u001b[0;34m.\u001b[0m\u001b[0mScatter\u001b[0m\u001b[0;34m(\u001b[0m\u001b[0mx\u001b[0m\u001b[0;34m=\u001b[0m\u001b[0mx\u001b[0m\u001b[0;34m,\u001b[0m \u001b[0my\u001b[0m\u001b[0;34m=\u001b[0m\u001b[0my\u001b[0m\u001b[0;34m)\u001b[0m\u001b[0;34m\u001b[0m\u001b[0;34m\u001b[0m\u001b[0m\n\u001b[1;32m     57\u001b[0m \u001b[0;34m\u001b[0m\u001b[0m\n",
      "\u001b[0;31mTypeError\u001b[0m: 'NoneType' object is not subscriptable"
     ]
    }
   ],
   "source": [
    "# Create 2nd notebook viewer (after waiting until first has loaded completely)\n",
    "import time\n",
    "time.sleep(2)\n",
    "viewer2 = notebook_viewer(data)"
   ]
  },
  {
   "cell_type": "code",
   "execution_count": null,
   "id": "20217970-7f51-4365-acdf-d8d610ffaecb",
   "metadata": {},
   "outputs": [],
   "source": []
  }
 ],
 "metadata": {
  "kernelspec": {
   "display_name": "Python 3",
   "language": "python",
   "name": "python3"
  },
  "language_info": {
   "codemirror_mode": {
    "name": "ipython",
    "version": 3
   },
   "file_extension": ".py",
   "mimetype": "text/x-python",
   "name": "python",
   "nbconvert_exporter": "python",
   "pygments_lexer": "ipython3",
   "version": "3.9.5"
  }
 },
 "nbformat": 4,
 "nbformat_minor": 5
}
